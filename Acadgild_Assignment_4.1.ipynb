{
 "cells": [
  {
   "cell_type": "markdown",
   "metadata": {},
   "source": [
    "# write a function filter_long_words() that takes a list of words and\n",
    "# an integer n and returns the list of words that are longer than n"
   ]
  },
  {
   "cell_type": "code",
   "execution_count": 1,
   "metadata": {},
   "outputs": [
    {
     "name": "stdout",
     "output_type": "stream",
     "text": [
      "Here's a starting word string.\n",
      "\n",
      "lord god christ pray church bible religion brother sister mother father son    daughter family freedman slave africa negro colored abolition anti-slavery peace fight battle    conflict soldier rebel confederate\n",
      "\n",
      "Select only words longer than (enter a positive integer number): -1\n",
      "-1 is not positive.  Try again.\n",
      "Select only words longer than (enter a positive integer number): -10\n",
      "-10 is not positive.  Try again.\n",
      "Select only words longer than (enter a positive integer number): 6\n",
      "\n",
      " ['lord', 'god', 'christ', 'pray', 'church', 'bible', 'religion', 'brother', 'sister', 'mother', 'father', 'son', 'daughter', 'family', 'freedman', 'slave', 'africa', 'negro', 'colored', 'abolition', 'anti-slavery', 'peace', 'fight', 'battle', 'conflict', 'soldier', 'rebel', 'confederate']\n"
     ]
    }
   ],
   "source": [
    "\"\"\"Decided to write an entire module\"\"\"\n",
    "def createList(sentence): return sentence.split()\n",
    "\n",
    "def filteredList(word_list, longer_than):\n",
    "    return list(filter((lambda word: len(word) > longer_than), word_list))\n",
    "\n",
    "def get_user_input():\n",
    "    not_int = True\n",
    "    while not_int:\n",
    "        try:\n",
    "            result = int(input('Select only words longer than (enter a positive integer number): '))\n",
    "            if result < 0:\n",
    "                print('{} is not positive.  Try again.'.format(result))\n",
    "                get_user_input()\n",
    "            not_int = False\n",
    "            return result\n",
    "        except ValueError:\n",
    "            print('Please enter an integer.')\n",
    "\n",
    "def filter_long_words(word_cloud):\n",
    "    word_list = createList(word_cloud)\n",
    "    words_longer_than_this = get_user_input()\n",
    "    final_list = filteredList(word_list, words_longer_than_this)\n",
    "    return final_list\n",
    "    \n",
    "if __name__=='__main__':\n",
    "    \n",
    "    random_words = ('lord god christ pray church bible religion brother sister mother father son\\\n",
    "    daughter family freedman slave africa negro colored abolition anti-slavery peace fight battle\\\n",
    "    conflict soldier rebel confederate')\n",
    "    print(\"Here's a starting word string.\\n\")\n",
    "    print(random_words + '\\n')\n",
    "    \n",
    "    only_long_words_list = filter_long_words(random_words)\n",
    "    print('\\n {}'.format(only_long_words_list))\n",
    "    "
   ]
  }
 ],
 "metadata": {
  "kernelspec": {
   "display_name": "Python 3",
   "language": "python",
   "name": "python3"
  },
  "language_info": {
   "codemirror_mode": {
    "name": "ipython",
    "version": 3
   },
   "file_extension": ".py",
   "mimetype": "text/x-python",
   "name": "python",
   "nbconvert_exporter": "python",
   "pygments_lexer": "ipython3",
   "version": "3.6.6"
  }
 },
 "nbformat": 4,
 "nbformat_minor": 2
}
